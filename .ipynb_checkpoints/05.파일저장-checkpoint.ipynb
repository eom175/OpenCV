{
 "cells": [
  {
   "cell_type": "markdown",
   "id": "a46e1e6b-3920-41a3-9483-c6126d5f5cbf",
   "metadata": {},
   "source": [
    "# 5.파일 저장"
   ]
  },
  {
   "cell_type": "markdown",
   "id": "5bdcb293-55d7-48a5-9c56-03f34aa79c3c",
   "metadata": {},
   "source": [
    "## 이미지 저장"
   ]
  },
  {
   "cell_type": "code",
   "execution_count": 2,
   "id": "5d7f63b2-342f-4359-b0ab-f9defa97a806",
   "metadata": {},
   "outputs": [
    {
     "name": "stdout",
     "output_type": "stream",
     "text": [
      "True\n"
     ]
    }
   ],
   "source": [
    "import cv2\n",
    "img = cv2.imread('img.jpg', cv2.IMREAD_GRAYSCALE) #흑백으로 이미지 불러오기\n",
    "cv2.imshow('img', img)\n",
    "cv2.waitKey(0)\n",
    "cv2.destroyAllWindows()\n",
    "\n",
    "result = cv2.imwrite('img_save.jpg', img)\n",
    "print(result)"
   ]
  },
  {
   "cell_type": "markdown",
   "id": "727cd4f9-3ff3-443d-8606-b5d78229a868",
   "metadata": {},
   "source": [
    "### 저장포맷(jpg, png)"
   ]
  },
  {
   "cell_type": "code",
   "execution_count": 3,
   "id": "f6de38c5-7935-49d6-a107-401ebcc1f124",
   "metadata": {},
   "outputs": [],
   "source": [
    "import cv2\n",
    "img = cv2.imread('img.jpg', cv2.IMREAD_GRAYSCALE) #흑백으로 이미지 불러오기\n",
    "result = cv2.imwrite('img_save.png', img) #png 형태로 저장\n"
   ]
  },
  {
   "cell_type": "markdown",
   "id": "f20e4d57-a2fb-428d-938d-3c10b021e719",
   "metadata": {},
   "source": [
    "### 동영상 저장"
   ]
  },
  {
   "cell_type": "code",
   "execution_count": 7,
   "id": "f133913b-510d-4185-8a0c-14bd9f11d967",
   "metadata": {},
   "outputs": [],
   "source": [
    "import cv2\n",
    "cap = cv2.VideoCapture('video.mp4')\n",
    "#코덱 정의\n",
    "fourcc = cv2.VideoWriter_fourcc(*'DIVX') # 문자 하나씩 전달해야 됨\n",
    "\n",
    "#프레임 크기 , FPS\n",
    "width = round(cap.get(cv2.CAP_PROP_FRAME_WIDTH))\n",
    "height = round(cap.get(cv2.CAP_PROP_FRAME_HEIGHT))  # 영상 사이즈를 가져옴\n",
    "\n",
    "fps = cap.get(cv2.CAP_PROP_FPS) * 2# 영상 프레임 가져옴, 영상 재생 속도 2\n",
    "\n",
    "out = cv2.VideoWriter('output_fast.avi', fourcc, fps, (width, height)) \n",
    "      # 저장 파일명, 코덱, FPS, 크기 전\n",
    "\n",
    "while cap.isOpened():\n",
    "    ret, frame = cap.read()\n",
    "    if not ret:\n",
    "        break\n",
    "\n",
    "    out.write(frame) #영상데이터만 저장(소리X)\n",
    "    cv2.imshow('video',frame)\n",
    "    if cv2.waitKey(25) == ord('q'):\n",
    "        break\n",
    "\n",
    "        \n",
    "out.release() #자원 해제\n",
    "cap.release()\n",
    "cv2.destroyAllWindows()\n",
    "        "
   ]
  }
 ],
 "metadata": {
  "kernelspec": {
   "display_name": "Python 3 (ipykernel)",
   "language": "python",
   "name": "python3"
  },
  "language_info": {
   "codemirror_mode": {
    "name": "ipython",
    "version": 3
   },
   "file_extension": ".py",
   "mimetype": "text/x-python",
   "name": "python",
   "nbconvert_exporter": "python",
   "pygments_lexer": "ipython3",
   "version": "3.13.5"
  }
 },
 "nbformat": 4,
 "nbformat_minor": 5
}
