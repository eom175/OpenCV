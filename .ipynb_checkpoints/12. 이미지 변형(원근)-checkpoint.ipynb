{
 "cells": [
  {
   "cell_type": "markdown",
   "id": "39db11b0-44bc-44e8-ad29-68034a05e2d7",
   "metadata": {},
   "source": [
    "# 12.이미지 변형 (원근)"
   ]
  },
  {
   "cell_type": "markdown",
   "id": "f3eb8a4c-21a1-4522-a268-83f15255373d",
   "metadata": {},
   "source": [
    "## 사다리꼴 이미지 펼치기"
   ]
  },
  {
   "cell_type": "code",
   "execution_count": 4,
   "id": "95364603-5c3b-4e96-a94d-faedeaa6dcf3",
   "metadata": {},
   "outputs": [],
   "source": [
    "import cv2\n",
    "import numpy as np\n",
    "img = cv2.imread('newspaper.jpg')\n",
    "\n",
    "width, height = 640, 240 #가로, 세로 640, 240으로 출력\n",
    "\n",
    "src = np.array([[509,352], [1005,343], [1120,585], [459,586]], dtype=np.float32) # input 4개 지정\n",
    "dst = np.array([[0,0], [width,0], [width,height], [0,height]], dtype=np.float32) # output 4개 지정\n",
    "\n",
    "\n",
    "matrix = cv2.getPerspectiveTransform(src,dst) # 선택한 공간을 잘라서 dst공간으로 불러옴\n",
    "result = cv2.warpPerspective(img, matrix, (width, height)) #img를 matrix 공간에 삽입\n",
    "\n",
    "cv2.imshow('img', img)\n",
    "cv2.imshow('result', result)\n",
    "cv2.waitKey(0)\n",
    "cv2.destroyAllWindows()"
   ]
  },
  {
   "cell_type": "markdown",
   "id": "52e11a33-9904-4e9a-bea0-e31817f1990d",
   "metadata": {},
   "source": [
    "## 회전된 이미지 다시 돌려놓기"
   ]
  },
  {
   "cell_type": "code",
   "execution_count": 5,
   "id": "33ad4f20-5223-4ff6-86a1-9123cb1a487d",
   "metadata": {},
   "outputs": [],
   "source": [
    "import cv2\n",
    "import numpy as np\n",
    "img = cv2.imread('poker.jpg')\n",
    "\n",
    "width, height = 530, 710 #가로, 세로 530,710으로 출력\n",
    "\n",
    "src = np.array([[706,152], [1134,416], [716,1004], [276,695]], dtype=np.float32) # input 4개 지정\n",
    "dst = np.array([[0,0], [width,0], [width,height], [0,height]], dtype=np.float32) # output 4개 지정\n",
    "\n",
    "\n",
    "matrix = cv2.getPerspectiveTransform(src,dst) # 선택한 지점을 잘라서 dst공간으로 불러옴\n",
    "result = cv2.warpPerspective(img, matrix, (width, height)) #img를 matrix대로 변환\n",
    "\n",
    "cv2.imshow('img', img)\n",
    "cv2.imshow('result', result)\n",
    "cv2.waitKey(0)\n",
    "cv2.destroyAllWindows()"
   ]
  },
  {
   "cell_type": "code",
   "execution_count": null,
   "id": "08b60195-e292-4dd0-b15d-83c715c72b7f",
   "metadata": {},
   "outputs": [],
   "source": []
  },
  {
   "cell_type": "code",
   "execution_count": null,
   "id": "65146f27-91a8-4040-bedd-65614557d777",
   "metadata": {},
   "outputs": [],
   "source": []
  }
 ],
 "metadata": {
  "kernelspec": {
   "display_name": "Python 3 (ipykernel)",
   "language": "python",
   "name": "python3"
  },
  "language_info": {
   "codemirror_mode": {
    "name": "ipython",
    "version": 3
   },
   "file_extension": ".py",
   "mimetype": "text/x-python",
   "name": "python",
   "nbconvert_exporter": "python",
   "pygments_lexer": "ipython3",
   "version": "3.13.5"
  }
 },
 "nbformat": 4,
 "nbformat_minor": 5
}
