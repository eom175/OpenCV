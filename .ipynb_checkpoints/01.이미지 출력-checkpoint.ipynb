{
 "cells": [
  {
   "cell_type": "markdown",
   "id": "04f2ace4-f1d3-4f31-b4e4-f113f72a69ac",
   "metadata": {},
   "source": [
    "#환경설정\n",
    "Anaconda Prompt에서 다음명령 수행\n",
    ">pip install opencv-python"
   ]
  },
  {
   "cell_type": "code",
   "execution_count": 1,
   "id": "6e8638de-8936-465c-889b-f97a6f98cb55",
   "metadata": {},
   "outputs": [
    {
     "data": {
      "text/plain": [
       "'4.11.0'"
      ]
     },
     "execution_count": 1,
     "metadata": {},
     "output_type": "execute_result"
    }
   ],
   "source": [
    "import cv2\n",
    "cv2.__version__"
   ]
  },
  {
   "cell_type": "markdown",
   "id": "3f85a6ea-4b19-4752-a052-e157c47e50f0",
   "metadata": {},
   "source": [
    "# openCV(computer vision)\n",
    "다양한 영상(이미지) / 동영상 처리에 사용되는 오픈소스 라이브러리"
   ]
  },
  {
   "cell_type": "markdown",
   "id": "f5b907d0-de2b-4c91-9b53-c2ecbf013e36",
   "metadata": {},
   "source": [
    "# 1. 이미지 출력"
   ]
  },
  {
   "cell_type": "code",
   "execution_count": null,
   "id": "cd5dcd0f-a89d-4c10-a314-b853813af1b3",
   "metadata": {},
   "outputs": [],
   "source": []
  },
  {
   "cell_type": "code",
   "execution_count": 5,
   "id": "1a777d20-e9fe-46cf-86c6-0f1a56a147d3",
   "metadata": {},
   "outputs": [
    {
     "name": "stdout",
     "output_type": "stream",
     "text": [
      "98\n"
     ]
    }
   ],
   "source": [
    "import cv2\n",
    "img = cv2.imread('img.jpg')\n",
    "cv2.imshow('img', img) # img라는 이름의 창에 img를 표시\n",
    "cv2.waitKey(5000) #지정된 시간 동안 사용자 키 입력 대기\n",
    "cv2.destroyAllWindows()#모든 창 닫기\n"
   ]
  },
  {
   "cell_type": "markdown",
   "id": "2312cc7a-e4d2-4d6b-a1da-81df7e9b3564",
   "metadata": {},
   "source": [
    "## 읽기 옵션\n",
    "1. cv2.IMREAD_COLOR : 컬러 이미지, 투명 영역은 무시(기본값)\n",
    "2. cv2.IMREAD_GRAYSCALE : 흑백 이미지\n",
    "3. cv2.IREAD_UNCHANGED: 투명영역까지 포함"
   ]
  },
  {
   "cell_type": "code",
   "execution_count": 6,
   "id": "7e8a2369-eb89-4689-a6d5-4bd51b1d4cdf",
   "metadata": {},
   "outputs": [],
   "source": [
    "import cv2\n",
    "img_color=cv2.imread('img.jpg', cv2.IMREAD_COLOR)\n",
    "img_gray=cv2.imread('img.jpg', cv2.IMREAD_GRAYSCALE)\n",
    "img_unchanged=cv2.imread('img.jpg', cv2.IMREAD_UNCHANGED)\n",
    "\n",
    "\n",
    "cv2.imshow('img_color',img_color)\n",
    "cv2.imshow('img_gray',img_gray)\n",
    "cv2.imshow('img_unchanged',img_unchanged)\n",
    "\n",
    "\n",
    "\n",
    "cv2.waitKey(0)\n",
    "cv2.destroyAllWindows()"
   ]
  },
  {
   "cell_type": "markdown",
   "id": "e5733ae7-b7aa-417c-a7a5-14504334d374",
   "metadata": {},
   "source": [
    "## shape\n",
    "이미지의 height, width, channel 정보"
   ]
  },
  {
   "cell_type": "code",
   "execution_count": 8,
   "id": "2ef2bb86-16ad-49ad-b814-9b39ee037600",
   "metadata": {},
   "outputs": [
    {
     "data": {
      "text/plain": [
       "(427, 640, 3)"
      ]
     },
     "execution_count": 8,
     "metadata": {},
     "output_type": "execute_result"
    }
   ],
   "source": [
    "import cv2\n",
    "img=cv2.imread('img.jpg')\n",
    "img.shape #세로, 가로, chaneel(R.G.B)\n"
   ]
  },
  {
   "cell_type": "code",
   "execution_count": null,
   "id": "065d8b1e-bbf1-43b1-8625-16ccb37b4130",
   "metadata": {},
   "outputs": [],
   "source": []
  },
  {
   "cell_type": "code",
   "execution_count": null,
   "id": "2ebde470-0aa3-4fb6-be48-7e5fa007ea1a",
   "metadata": {},
   "outputs": [],
   "source": []
  },
  {
   "cell_type": "code",
   "execution_count": null,
   "id": "f25160d4-7edd-4fb6-b1da-782c1b01d43b",
   "metadata": {},
   "outputs": [],
   "source": []
  },
  {
   "cell_type": "code",
   "execution_count": null,
   "id": "8c373d1c-2257-4d33-8723-dcce964da077",
   "metadata": {},
   "outputs": [],
   "source": []
  },
  {
   "cell_type": "code",
   "execution_count": null,
   "id": "44bd0827-7d79-4470-9d9e-da769ca74a28",
   "metadata": {},
   "outputs": [],
   "source": []
  },
  {
   "cell_type": "code",
   "execution_count": null,
   "id": "d6a5d4d1-12d3-45f9-8d61-42e7bde13f9c",
   "metadata": {},
   "outputs": [],
   "source": []
  },
  {
   "cell_type": "code",
   "execution_count": null,
   "id": "91a7c4bf-8c4b-438c-a077-6d13cd053efa",
   "metadata": {},
   "outputs": [],
   "source": []
  },
  {
   "cell_type": "code",
   "execution_count": null,
   "id": "98c32ede-4f95-4ea5-877d-6842fdcf1676",
   "metadata": {},
   "outputs": [],
   "source": []
  }
 ],
 "metadata": {
  "kernelspec": {
   "display_name": "Python 3 (ipykernel)",
   "language": "python",
   "name": "python3"
  },
  "language_info": {
   "codemirror_mode": {
    "name": "ipython",
    "version": 3
   },
   "file_extension": ".py",
   "mimetype": "text/x-python",
   "name": "python",
   "nbconvert_exporter": "python",
   "pygments_lexer": "ipython3",
   "version": "3.13.5"
  }
 },
 "nbformat": 4,
 "nbformat_minor": 5
}
