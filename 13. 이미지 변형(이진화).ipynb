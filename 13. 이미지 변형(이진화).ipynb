{
 "cells": [
  {
   "cell_type": "markdown",
   "id": "e0734586-fec7-4e3c-bfdd-8e61cad463c2",
   "metadata": {},
   "source": [
    "# 13. 이미지 변형(이진화) : 이미지의 픽셀 값을 0 또는 255로만 설정"
   ]
  },
  {
   "cell_type": "markdown",
   "id": "7cd77089",
   "metadata": {},
   "source": [
    "### Threshold"
   ]
  },
  {
   "cell_type": "code",
   "execution_count": null,
   "id": "8b885f1f-99e1-43cd-ae14-78a4f53f5fed",
   "metadata": {},
   "outputs": [],
   "source": [
    "import cv2\n",
    "img = cv2.imread('book.jpg', cv2.IMREAD_GRAYSCALE)\n",
    "\n",
    "ret, binary = cv2.threshold(img, 127, 255, cv2.THRESH_BINARY) # 127보다 크면 255(흰색으로 처리) 작으면 검은색으로 처리\n",
    "\n",
    "cv2.imshow('img', img)\n",
    "cv2.imshow('binary', binary)\n",
    "cv2.waitKey(0)\n",
    "cv2.destroyAllWindows()  "
   ]
  },
  {
   "cell_type": "markdown",
   "id": "611565e6-502e-436d-b429-f9b3a15efe2e",
   "metadata": {},
   "source": [
    "## Trackbar(값 변화에 따른 변형 확인)"
   ]
  },
  {
   "cell_type": "code",
   "execution_count": 2,
   "id": "ee6c7116-7064-4258-802c-a85b7b7a1883",
   "metadata": {},
   "outputs": [],
   "source": [
    "import cv2\n",
    "\n",
    "def empty(pos):\n",
    "    # print(pos)\n",
    "    pass\n",
    "\n",
    "img = cv2.imread('book.jpg', cv2.IMREAD_GRAYSCALE)\n",
    "\n",
    "name = 'Trackbar'\n",
    "cv2.namedWindow(name)\n",
    "\n",
    "cv2.createTrackbar('threshold', name, 127, 255, empty) #bar 이름, 창의 이름, 초기값, 최대값, 이벤트 처리 함수\n",
    "  \n",
    "while True: \n",
    "    thresh = cv2.getTrackbarPos('threshold', name) # bar이름, 창의 이름\n",
    "    ret, binary = cv2.threshold(img, thresh, 255, cv2.THRESH_BINARY) \n",
    "    if not ret:\n",
    "        break\n",
    "\n",
    "    cv2.imshow(name, binary)\n",
    "    if cv2.waitKey(1) ==ord('q'):\n",
    "        break\n",
    "\n",
    "\n",
    "cv2.destroyAllWindows()\n"
   ]
  },
  {
   "cell_type": "markdown",
   "id": "c7b40bc3",
   "metadata": {},
   "source": [
    "### 그림판에서 제작한 이미지로 확인"
   ]
  },
  {
   "cell_type": "code",
   "execution_count": 1,
   "id": "535cb1cc-f425-4b45-8499-486c2081595e",
   "metadata": {},
   "outputs": [],
   "source": [
    "import cv2\n",
    "\n",
    "def empty(pos):\n",
    "    # print(pos)\n",
    "    pass\n",
    "\n",
    "img = cv2.imread('threshold.png', cv2.IMREAD_GRAYSCALE)\n",
    "\n",
    "name = 'Trackbar'\n",
    "cv2.namedWindow(name)\n",
    "\n",
    "cv2.createTrackbar('threshold', name, 127, 255, empty) #bar 이름, 창의 이름, 초기값, 최대값, 이벤트 처리 함수\n",
    "  \n",
    "while True: \n",
    "    thresh = cv2.getTrackbarPos('threshold', name) # bar이름, 창의 이름\n",
    "    ret, binary = cv2.threshold(img, thresh, 255, cv2.THRESH_BINARY) \n",
    "    if not ret:\n",
    "        break\n",
    "\n",
    "    cv2.imshow('img', img)\n",
    "    cv2.imshow(name, binary)\n",
    "    if cv2.waitKey(1) ==ord('q'):\n",
    "        break\n",
    "\n",
    "\n",
    "cv2.destroyAllWindows()\n"
   ]
  },
  {
   "cell_type": "code",
   "execution_count": null,
   "id": "04f512e9-a517-45e2-bc69-ef68fbeca38b",
   "metadata": {},
   "outputs": [],
   "source": [
    "import cv2\n",
    "img = cv2.imread('threshold.png', cv2.IMREAD_GRAYSCALE)\n",
    "\n",
    "ret, binary1 = cv2.threshold(img, 0, 255, cv2.THRESH_BINARY) # 진한 회색, 밝은 회색, 흰색 -> 흰색 처리\n",
    "ret, binary2 = cv2.threshold(img, 127, 255, cv2.THRESH_BINARY) # 밝은 회색, 흰색 -> 흰색 처리\n",
    "ret, binary3 = cv2.threshold(img, 195, 255, cv2.THRESH_BINARY)  # 전부 흰색\n",
    "\n",
    "cv2.imshow('img', img)\n",
    "cv2.imshow('binary1', binary1)\n",
    "cv2.imshow('binary2', binary2)\n",
    "cv2.imshow('binary3', binary3)\n",
    "cv2.waitKey(0)\n",
    "cv2.destroyAllWindows()  "
   ]
  },
  {
   "cell_type": "markdown",
   "id": "a5015de8-fe0e-40b7-b6e1-078bffa2a675",
   "metadata": {},
   "source": [
    "\n",
    "### Adaptive Threshold(이미지 영역을 세분화 해서 임계치 적용)\n",
    "\n",
    "ex) 빛반사가 심한 경우, 한쪽만 어두운 경우"
   ]
  },
  {
   "cell_type": "code",
   "execution_count": null,
   "id": "cdecdf5e",
   "metadata": {},
   "outputs": [],
   "source": [
    "import cv2\n",
    "\n",
    "def empty(pos): # 함수에 내용은 없지만 createTrackbar 함수에 필수적이므로 선언은 해둠\n",
    "    # print(pos)\n",
    "    pass\n",
    "\n",
    "img = cv2.imread('book.jpg', cv2.IMREAD_GRAYSCALE)\n",
    "\n",
    "name = 'Trackbar'\n",
    "cv2.namedWindow(name)\n",
    "\n",
    "cv2.createTrackbar('block_size', name, 1, 100, empty) # 홀수만 가능, 1보다는 큰 값 정의 : 임계값 계산시 주변 몇개의 픽셀을 고려할지 결정\n",
    "cv2.createTrackbar('c', name, 3, 10, empty) # 일반적으로 양수의 값 사용 : \n",
    "  \n",
    "while True: \n",
    "    block_size = cv2.getTrackbarPos('block_size', name) # 현재 트랙바의 값을 가져옴\n",
    "    c = cv2.getTrackbarPos('c', name)\n",
    "\n",
    "    if block_size <=1:\n",
    "        block_size = 3\n",
    "    if block_size % 2 ==0:\n",
    "        block_size +=1\n",
    "\n",
    "\n",
    "\n",
    "    binary = cv2.adaptiveThreshold(img, 255, cv2.ADAPTIVE_THRESH_GAUSSIAN_C, cv2.THRESH_BINARY, block_size, c)  #ret 지움\n",
    "    # adaptive threshold를 수행\n",
    "    # cv2.ADAPTIVE_THRESH_GAUSSIAN_C : 주변 픽셀의 가우시안 가중치 활용해서 각 픽셀마다의 임계치 계산\n",
    "    # cv2.THRESH_BINARY : 픽셀값이 임계값 보다 크면 255, 작으면 0으로 설정\n",
    "    # block_size : 임계값 계산 영역 크기(block_size * block_size)\n",
    "    # C: 계산된 지역 임계값을 미세 조정하는 역할\n",
    "    cv2.imshow(name, binary)\n",
    "    if cv2.waitKey(1) ==ord('q'):\n",
    "        break\n",
    "\n",
    "\n",
    "cv2.destroyAllWindows()\n"
   ]
  },
  {
   "cell_type": "markdown",
   "id": "f30e6a23",
   "metadata": {},
   "source": [
    "## 오츠 알고리즘 : 최적의 임계치 값을 자동으로 찾음"
   ]
  },
  {
   "cell_type": "markdown",
   "id": "3f0d820d",
   "metadata": {},
   "source": [
    "Bimodal Image에 사용하기 적합"
   ]
  },
  {
   "cell_type": "code",
   "execution_count": null,
   "id": "59427f5c",
   "metadata": {},
   "outputs": [
    {
     "name": "stdout",
     "output_type": "stream",
     "text": [
      "otsu_threshold 138.0\n"
     ]
    }
   ],
   "source": [
    "import cv2\n",
    "img = cv2.imread('book.jpg', cv2.IMREAD_GRAYSCALE)\n",
    "\n",
    "\n",
    "\n",
    "ret, binary = cv2.threshold(img, 127, 255, cv2.THRESH_BINARY) # 127보다 크면 255(흰색으로 처리) 작으면 검은색으로 처리\n",
    "ret, otsu = cv2.threshold(img, -1 , 255, cv2.THRESH_BINARY | cv2.THRESH_OTSU) # 오츠 알고리즘은 임계치 자동으로 찾으니 따로 설정X\n",
    "\n",
    "print('otsu_threshold', ret)\n",
    "\n",
    "\n",
    "\n",
    "cv2.imshow('img', img)\n",
    "cv2.imshow('binary', binary)\n",
    "cv2.imshow('otsu', otsu)\n",
    "cv2.waitKey(0)\n",
    "cv2.destroyAllWindows()  \n"
   ]
  }
 ],
 "metadata": {
  "kernelspec": {
   "display_name": "base",
   "language": "python",
   "name": "python3"
  },
  "language_info": {
   "codemirror_mode": {
    "name": "ipython",
    "version": 3
   },
   "file_extension": ".py",
   "mimetype": "text/x-python",
   "name": "python",
   "nbconvert_exporter": "python",
   "pygments_lexer": "ipython3",
   "version": "3.13.5"
  }
 },
 "nbformat": 4,
 "nbformat_minor": 5
}
