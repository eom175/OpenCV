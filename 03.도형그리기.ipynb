{
 "cells": [
  {
   "cell_type": "markdown",
   "id": "a26efcde-05d2-4894-abf8-0c5ca3ae7062",
   "metadata": {},
   "source": [
    "# 3. 도형 그리기\n"
   ]
  },
  {
   "cell_type": "markdown",
   "id": "a4678616-b10a-4161-a475-737d81d815ee",
   "metadata": {},
   "source": [
    "## 빈 스케치북 만들기"
   ]
  },
  {
   "cell_type": "code",
   "execution_count": 6,
   "id": "910035df-8043-41e8-b6b5-2eaecdb97ab3",
   "metadata": {},
   "outputs": [],
   "source": [
    "import cv2\n",
    "import numpy as np \n",
    "\n",
    "# 세로 480 X 가로 640, 3channel 에 해당하는 스케치북 만들기\n",
    "img = np.zeros((480, 640,3), dtype = np.uint8)\n",
    "img[:] = (255,25,255) #공간에 색 할당\n",
    "# print(img)\n",
    "cv2.imshow('img', img)\n",
    "cv2.waitKey(0)\n",
    "cv2.destroyAllWindows()"
   ]
  },
  {
   "cell_type": "markdown",
   "id": "28b09db8-2e1e-4f57-9896-bd63a4c01f03",
   "metadata": {},
   "source": [
    "## 일부 영역 색칠"
   ]
  },
  {
   "cell_type": "code",
   "execution_count": 7,
   "id": "b8da731b-cea6-462a-a14d-a0d209f2f0a2",
   "metadata": {},
   "outputs": [],
   "source": [
    "import cv2\n",
    "import numpy as np\n",
    "\n",
    "img = np.zeros((480, 640,3), dtype = np.uint8)\n",
    "img[100:200, 200:300] =(255,255,255) # 100-200, 200-300 만큼의 특정 공간을 지정된 색으로 칠\n",
    "#세로 영역, 가로 영\n",
    "cv2.imshow('img', img)\n",
    "cv2.waitKey(0)\n",
    "cv2.destroyAllWindows()"
   ]
  },
  {
   "cell_type": "markdown",
   "id": "1aba8fb8-c0c9-4927-8f50-9dda89e355cb",
   "metadata": {},
   "source": [
    "## 직선\n",
    "직선의 종류(line type)\n",
    "\n",
    "1. cv2.LINE_4 : 상하좌우 4방향으로 연결된 선\n",
    "2. cv2.LINE_8 : 대각선을 포함한 8방향으로 연결된 선 (기본값)\n",
    "3. cv2.LINE_AA: 부드러운 선(anti-aliasing)"
   ]
  },
  {
   "cell_type": "code",
   "execution_count": 1,
   "id": "1a77e91a-d1f8-4baf-935b-fcf8f635a7ce",
   "metadata": {},
   "outputs": [],
   "source": [
    "import cv2\n",
    "import numpy as np\n",
    "\n",
    "img = np.zeros((480, 640, 3), dtype=np.uint8) # 스케치북 생성\n",
    "\n",
    "COLOR= (0,255,255)\n",
    "THICKNESS = 3\n",
    "\n",
    "cv2.line(img, (50,100), (400,50), COLOR, THICKNESS, cv2.LINE_8)\n",
    "# 그릴 위치, 시작 위치, 끝 위치, 색, 두께, 선 종류\n",
    "cv2.line(img, (50,200), (400,150), COLOR, THICKNESS, cv2.LINE_4)\n",
    "cv2.line(img, (50,300), (400,250), COLOR, THICKNESS, cv2.LINE_AA)\n",
    "\n",
    "cv2.imshow('img', img)\n",
    "cv2.waitKey(0)\n",
    "cv2.destroyAllWindows()"
   ]
  },
  {
   "cell_type": "markdown",
   "id": "4f96d37e-7594-4929-9000-aea9aaef3a58",
   "metadata": {},
   "source": [
    "## 원"
   ]
  },
  {
   "cell_type": "code",
   "execution_count": 3,
   "id": "76107fed-2510-41f7-9eb7-7b4eb92c08c2",
   "metadata": {},
   "outputs": [],
   "source": [
    "import cv2\n",
    "import numpy as np\n",
    "\n",
    "img = np.zeros((480, 640, 3), dtype=np.uint8) # 스케치북 생성\n",
    "\n",
    "COLOR= (255,255,0)\n",
    "THICKNESS = 10\n",
    "RADIUS = 50\n",
    "cv2.circle(img, (200,100), RADIUS, COLOR, THICKNESS, cv2.LINE_AA)\n",
    "# 그릴 위치, 원의 중심, 반지름, 색깔 두께, 선 종류\n",
    "cv2.circle(img, (400,100), RADIUS, COLOR, cv2.FILLED , cv2.LINE_AA)\n",
    "\n",
    "cv2.imshow('img', img)\n",
    "cv2.waitKey(0)\n",
    "cv2.destroyAllWindows()"
   ]
  },
  {
   "cell_type": "markdown",
   "id": "e6aa03d2-1123-4508-a44a-8177781adf11",
   "metadata": {},
   "source": [
    "# 사각형"
   ]
  },
  {
   "cell_type": "code",
   "execution_count": 8,
   "id": "ce7d7763-f79a-493d-9c53-a5c6a77d897c",
   "metadata": {},
   "outputs": [],
   "source": [
    "import cv2\n",
    "import numpy as np\n",
    "\n",
    "img = np.zeros((480, 640, 3), dtype=np.uint8) # 스케치북 생성\n",
    "\n",
    "COLOR= (0,255,0) #BGR 초록\n",
    "THICKNESS = 3\n",
    "\n",
    "cv2.rectangle(img, (100,100), (200,200), COLOR, THICKNESS) # 왼쪽 위 꼭지점, 오른쪽 아래 꼭지점 좌표 제공\n",
    "\n",
    "cv2.rectangle(img, (300,100), (400,400), COLOR, cv2.FILLED) # 사각형 안쪽 채움\n",
    "cv2.imshow('img', img)\n",
    "cv2.waitKey(0)\n",
    "cv2.destroyAllWindows()\n"
   ]
  },
  {
   "cell_type": "markdown",
   "id": "39d927d8-73c8-4f30-9773-44d567698658",
   "metadata": {},
   "source": [
    "# 다각형"
   ]
  },
  {
   "cell_type": "code",
   "execution_count": 9,
   "id": "6e9cdaba-6f86-42e8-9ec1-9a4b5629655c",
   "metadata": {},
   "outputs": [],
   "source": [
    "import cv2\n",
    "import numpy as np\n",
    "\n",
    "img = np.zeros((480, 640, 3), dtype=np.uint8) # 스케치북 생성\n",
    "\n",
    "COLOR= (0,0,255) #BGR 빨강\n",
    "THICKNESS = 3\n",
    "\n",
    "pts1 = np.array([[100,100], [200,100], [100,200]])\n",
    "pts2 = np.array([[200,100], [300,100], [300,200]])\n",
    "\n",
    "# cv2.polylines(img, [pts1], True, COLOR, THICKNESS, cv2.LINE_AA)\n",
    "# cv2.polylines(img, [pts2], True, COLOR, THICKNESS, cv2.LINE_AA)\n",
    "\n",
    "cv2.polylines(img, [pts1,pts2], True, COLOR, THICKNESS, cv2.LINE_AA) # polylines는 리스트 형태로 다각형 그리기 가능\n",
    "    #그릴 위치, 그릴 좌표들, 닫힘 여부, 색, 두께, 선 종류\n",
    "\n",
    "pts3 = np.array([[[100,300], [200,300], [100,400]], [[200,300], [300,300], [300,400]]]) # pts1,2 리스트로 한번에 묶음\n",
    "cv2.fillPoly(img, pts3, COLOR, cv2.LINE_AA) #꽉 찬 다각형  \n",
    "   # 그릴 위치, 그릴 좌표들, 색, 선 종류\n",
    "\n",
    "\n",
    "\n",
    "\n",
    "\n",
    "\n",
    "cv2.imshow('img', img)\n",
    "cv2.waitKey(0)\n",
    "cv2.destroyAllWindows()\n"
   ]
  },
  {
   "cell_type": "code",
   "execution_count": null,
   "id": "719f0247-e291-4ffc-8c45-f2edc9925500",
   "metadata": {},
   "outputs": [],
   "source": []
  }
 ],
 "metadata": {
  "kernelspec": {
   "display_name": "Python 3 (ipykernel)",
   "language": "python",
   "name": "python3"
  },
  "language_info": {
   "codemirror_mode": {
    "name": "ipython",
    "version": 3
   },
   "file_extension": ".py",
   "mimetype": "text/x-python",
   "name": "python",
   "nbconvert_exporter": "python",
   "pygments_lexer": "ipython3",
   "version": "3.13.5"
  }
 },
 "nbformat": 4,
 "nbformat_minor": 5
}
