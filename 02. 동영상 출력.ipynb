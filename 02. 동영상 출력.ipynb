{
 "cells": [
  {
   "cell_type": "markdown",
   "id": "e855a50b-8605-4236-a04e-38614499271a",
   "metadata": {},
   "source": [
    "# 동영상 출력"
   ]
  },
  {
   "cell_type": "markdown",
   "id": "349c5cca-fead-4c67-84f7-bb513933aef5",
   "metadata": {},
   "source": [
    "## 동영상 파일 풀력"
   ]
  },
  {
   "cell_type": "code",
   "execution_count": 1,
   "id": "61077463-819c-4502-a036-46132f1f3d64",
   "metadata": {
    "scrolled": true
   },
   "outputs": [
    {
     "name": "stdout",
     "output_type": "stream",
     "text": [
      "사용자 입력에 의해 종료합니다\n"
     ]
    },
    {
     "ename": "AttributeError",
     "evalue": "module 'cv2' has no attribute 'destoryAllWindows'",
     "output_type": "error",
     "traceback": [
      "\u001b[1;31m---------------------------------------------------------------------------\u001b[0m",
      "\u001b[1;31mAttributeError\u001b[0m                            Traceback (most recent call last)",
      "Cell \u001b[1;32mIn[1], line 17\u001b[0m\n\u001b[0;32m     14\u001b[0m         \u001b[38;5;28;01mbreak\u001b[39;00m\n\u001b[0;32m     16\u001b[0m cap\u001b[38;5;241m.\u001b[39mrelease() \u001b[38;5;66;03m#자원해제\u001b[39;00m\n\u001b[1;32m---> 17\u001b[0m cv2\u001b[38;5;241m.\u001b[39mdestoryAllWindows()\n",
      "\u001b[1;31mAttributeError\u001b[0m: module 'cv2' has no attribute 'destoryAllWindows'"
     ]
    }
   ],
   "source": [
    "import cv2\n",
    "cap=cv2.VideoCapture('video.mp4')\n",
    "\n",
    "while cap.isOpened(): #동영상 파일이 올바로 열렸는지?\n",
    "    ret, frame = cap.read() # 1. ret= 성공여부 frame = 받아온 이미지(프레임)\n",
    "    if not ret:\n",
    "        print(\"더 이상 가져올 프레임이 없음\")\n",
    "        break\n",
    "\n",
    "    cv2.imshow('video', frame)\n",
    "\n",
    "    if cv2.waitKey(25) == ord('q'):\n",
    "        print(\"사용자 입력에 의해 종료합니다\")\n",
    "        break\n",
    "\n",
    "cap.release() #자원해제\n",
    "cv2.destoryAllWindows() #모든 창 닫기"
   ]
  },
  {
   "cell_type": "markdown",
   "id": "f0eecd17-34c0-4745-815d-1b1bb6832ee6",
   "metadata": {},
   "source": [
    "# 카메라 출력"
   ]
  },
  {
   "cell_type": "code",
   "execution_count": 1,
   "id": "d9b76c8c-9476-4384-9d9a-e3f69ae728e3",
   "metadata": {},
   "outputs": [],
   "source": [
    "import cv2\n",
    "cap = cv2.VideoCapture(0) # 0번째 카메라 장치\n",
    "\n",
    "if not cap.isOpened():\n",
    "    exit() # 카메라 안열리면 프로그램 종료\n",
    "\n",
    "while True:\n",
    "    ret, frame = cap.read()\n",
    "    if not ret:\n",
    "        break\n",
    "\n",
    "    cv2.imshow('camera', frame)\n",
    "    if cv2.waitKey(1) == ord('q'): #사용자가 q를 입력하면 종료\n",
    "        break\n",
    "cap.release()\n",
    "cv2.destroyAllWindows() "
   ]
  },
  {
   "cell_type": "code",
   "execution_count": null,
   "id": "dab0aadd-9ed5-4770-9a83-ded4d5967f4f",
   "metadata": {},
   "outputs": [],
   "source": []
  },
  {
   "cell_type": "code",
   "execution_count": null,
   "id": "a54aa751-f39f-4bc2-9e19-dab08938b2b7",
   "metadata": {},
   "outputs": [],
   "source": []
  }
 ],
 "metadata": {
  "kernelspec": {
   "display_name": "Python 3 (ipykernel)",
   "language": "python",
   "name": "python3"
  },
  "language_info": {
   "codemirror_mode": {
    "name": "ipython",
    "version": 3
   },
   "file_extension": ".py",
   "mimetype": "text/x-python",
   "name": "python",
   "nbconvert_exporter": "python",
   "pygments_lexer": "ipython3",
   "version": "3.13.5"
  }
 },
 "nbformat": 4,
 "nbformat_minor": 5
}
