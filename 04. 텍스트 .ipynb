{
 "cells": [
  {
   "cell_type": "markdown",
   "id": "cec8800d-0fe1-4605-a031-e3d380071d5b",
   "metadata": {},
   "source": [
    "# 4 텍스트"
   ]
  },
  {
   "cell_type": "markdown",
   "id": "4b681d58-3704-4bbd-be7c-78e0f644d762",
   "metadata": {},
   "source": [
    "### OpenCV에서 사용하는 글꼴 종류\n",
    "1. cv2.FONT_HERSHEY_SIMPLEX : 보통 크기의 산 세리프 글꼴\n",
    "2. cv2.FONT_HERSHEY_PLAIN: 작은 크기의 세리프 글꼴\n",
    "3. cv2.FONT_HERSHEY_SCRIPT_SIMPLEX : 필기체 스타일 글꼴\n",
    "4. cv2.FONT_HERSHEY_TRIPLEX : 보통 크기의 세리프 글꼴\n",
    "5. cv2.FONT_ITALIC : 기울임(이탤릭)"
   ]
  },
  {
   "cell_type": "code",
   "execution_count": 4,
   "id": "b6d9217f-8ece-467d-b6f9-c7ef44305ee3",
   "metadata": {},
   "outputs": [],
   "source": [
    "import numpy as np\n",
    "import cv2\n",
    "\n",
    "img = np.zeros((480,640,3), dtype = np.uint8)\n",
    "\n",
    "SCALE =2 # 크기\n",
    "COLOR = (255, 255, 255)\n",
    "THICKNESS = 3 # 두께\n",
    "\n",
    "\n",
    "cv2.putText(img, \"Nado simplex\", (20,50), cv2.FONT_HERSHEY_SIMPLEX, SCALE, COLOR, THICKNESS)\n",
    "    # 그릴 위치, 텍스트 내용, 시작 위치, 폰트 종류, 크기 , 색, 두꼐\n",
    "cv2.putText(img, \"Nado plain\", (20,150), cv2.FONT_HERSHEY_PLAIN, SCALE, COLOR, THICKNESS)\n",
    "cv2.putText(img, \"Nado script simplex\", (20,250), cv2.FONT_HERSHEY_SCRIPT_SIMPLEX, SCALE, COLOR, THICKNESS)\n",
    "cv2.putText(img, \"Nado triplex\", (20,350), cv2.FONT_HERSHEY_TRIPLEX , SCALE, COLOR, THICKNESS)\n",
    "cv2.putText(img, \"Nado italic\", (20,450), cv2.FONT_HERSHEY_TRIPLEX | cv2.FONT_ITALIC, SCALE, COLOR, THICKNESS)\n",
    "\n",
    "\n",
    "cv2.imshow('img', img)\n",
    "cv2.waitKey(0)\n",
    "cv2.destroyAllWindows()"
   ]
  },
  {
   "cell_type": "markdown",
   "id": "026fb406-3ab5-4bb8-b55d-5b6cfb328add",
   "metadata": {},
   "source": [
    "## 한글"
   ]
  },
  {
   "cell_type": "code",
   "execution_count": 5,
   "id": "6f3c0ec7-94a6-40d9-885b-ae27dc2829a3",
   "metadata": {},
   "outputs": [],
   "source": [
    "import numpy as np\n",
    "import cv2\n",
    "\n",
    "img = np.zeros((480,640,3), dtype = np.uint8)\n",
    "\n",
    "SCALE =2 # 크기\n",
    "COLOR = (255, 255, 255)\n",
    "THICKNESS = 3 # 두께\n",
    "\n",
    "\n",
    "cv2.putText(img, \"하이요\", (20,50), cv2.FONT_HERSHEY_SIMPLEX, SCALE, COLOR, THICKNESS)\n",
    "    # 그릴 위치, 텍스트 내용, 시작 위치, 폰트 종류, 크기 , 색, 두꼐\n",
    "\n",
    "\n",
    "cv2.imshow('img', img)\n",
    "cv2.waitKey(0)\n",
    "cv2.destroyAllWindows()"
   ]
  },
  {
   "cell_type": "markdown",
   "id": "73e13030-1bca-451c-a639-b518a73d3159",
   "metadata": {},
   "source": [
    "# 한글 우회 방법"
   ]
  },
  {
   "cell_type": "code",
   "execution_count": 9,
   "id": "95335e0a-a5ab-4745-9112-e18cdec89665",
   "metadata": {},
   "outputs": [],
   "source": [
    "import numpy as np\n",
    "import cv2\n",
    "# PIL(python image library)\n",
    "from PIL import ImageFont, ImageDraw, Image\n",
    "\n",
    "def myPutText(src, text, pos, font_size, font_color):\n",
    "    img_pil = Image.fromarray(src)\n",
    "    draw = ImageDraw.Draw(img_pil)\n",
    "    font = ImageFont.truetype('fonts/gulim.ttc', font_size)\n",
    "    draw.text(pos, text, font=font, fill=font_color)\n",
    "    return np.array(img_pil)\n",
    "\n",
    "img = np.zeros((480,640,3), dtype = np.uint8)\n",
    "\n",
    "      #SCALE =2 # 크기\n",
    "COLOR = (255, 255, 255)\n",
    "      #THICKNESS = 3 # 두께\n",
    "FONT_SIZE= 30\n",
    "\n",
    "    #cv2.putText(img, \"하이요\", (20,50), cv2.FONT_HERSHEY_SIMPLEX, SCALE, COLOR, THICKNESS)\n",
    "    # 그릴 위치, 텍스트 내용, 시작 위치, 폰트 종류, 크기 , 색, 두꼐\n",
    "\n",
    "img = myPutText(img, \"하이요\", (20,50), FONT_SIZE, COLOR)\n",
    "\n",
    "\n",
    "cv2.imshow('img', img)\n",
    "cv2.waitKey(0)\n",
    "cv2.destroyAllWindows()"
   ]
  }
 ],
 "metadata": {
  "kernelspec": {
   "display_name": "Python 3 (ipykernel)",
   "language": "python",
   "name": "python3"
  },
  "language_info": {
   "codemirror_mode": {
    "name": "ipython",
    "version": 3
   },
   "file_extension": ".py",
   "mimetype": "text/x-python",
   "name": "python",
   "nbconvert_exporter": "python",
   "pygments_lexer": "ipython3",
   "version": "3.13.5"
  }
 },
 "nbformat": 4,
 "nbformat_minor": 5
}
