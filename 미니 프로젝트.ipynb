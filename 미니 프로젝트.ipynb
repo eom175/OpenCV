{
 "cells": [
  {
   "cell_type": "markdown",
   "id": "728fd129-4891-4dd0-96b7-daf94f075026",
   "metadata": {},
   "source": [
    "# 반자동 문서 스캐너"
   ]
  },
  {
   "cell_type": "markdown",
   "id": "397526d1-07d6-44d5-874d-dd16a9cbe5b8",
   "metadata": {},
   "source": [
    "### 마우스 이벤트 등록"
   ]
  },
  {
   "cell_type": "code",
   "execution_count": 8,
   "id": "ce9439a9-571a-453e-ac4e-c86e19732c0b",
   "metadata": {},
   "outputs": [
    {
     "name": "stdout",
     "output_type": "stream",
     "text": [
      "왼쪽 버튼 클릭\n",
      "702 149\n",
      "왼쪽 버튼 \n",
      "702 149\n",
      "왼쪽 버튼 클릭\n",
      "1126 418\n",
      "왼쪽 버튼 \n",
      "1126 418\n",
      "오른쪽 버튼 클릭\n",
      "오른쪽 버튼 클릭\n",
      "오른쪽 버튼 클릭\n",
      "오른쪽 버튼 클릭\n",
      "오른쪽 버튼 클릭\n",
      "오른쪽 버튼 클릭\n",
      "오른쪽 버튼 클릭\n"
     ]
    }
   ],
   "source": [
    "import cv2\n",
    "\n",
    "def mouse_handler(event, x, y, flags, param):\n",
    "    if event == cv2.EVENT_LBUTTONDOWN: # 마우스 왼쪽 클릭\n",
    "        print('왼쪽 버튼 클릭')\n",
    "        print(x,y)\n",
    "    elif event == cv2.EVENT_LBUTTONUP: # 마우스 왼쪽 버튼 뗌\n",
    "        print('왼쪽 버튼 ')\n",
    "        print(x,y)\n",
    "    elif event == cv2.EVENT_LBUTTONDBLCLK: #마우스 왼쪽 버튼 더블 클릭\n",
    "        print('왼쪽 버튼 더블 클릭')\n",
    "    # elif event == cv2.EVENT_MOUSEMOVE: #마우스 이동\n",
    "    #      print('마우스 이동')\n",
    "    elif event == cv2.EVENT_RBUTTONDOWN: #오른쪽 버튼 Down\n",
    "        print('오른쪽 버튼 클릭')\n",
    "\n",
    "\n",
    "img = cv2.imread('poker.jpg')\n",
    "cv2.namedWindow('img') #img 이름의 윈도우를 생성, 여기에 마우스 이벤트를 처리하기 위한 핸들러 적용\n",
    "cv2.setMouseCallback('img', mouse_handler)\n",
    "cv2.imshow('img', img)\n",
    "cv2.waitKey(0)\n",
    "cv2.destroyAllWindows()"
   ]
  },
  {
   "cell_type": "markdown",
   "id": "1e45d2bf-e02a-4232-a80e-e815dba4d87e",
   "metadata": {},
   "source": [
    "### 프로젝트"
   ]
  },
  {
   "cell_type": "code",
   "execution_count": 18,
   "id": "a983a008-09c5-420b-96f7-c30a2428055a",
   "metadata": {},
   "outputs": [],
   "source": [
    "import cv2\n",
    "import numpy as np\n",
    "\n",
    "point_list = []\n",
    "src_img = cv2.imread('poker.jpg')\n",
    "\n",
    "COLOR = (255,0,255) # BGR\n",
    "\n",
    "def mouse_handler(event, x, y, flags, param):\n",
    "    if event == cv2.EVENT_LBUTTONDOWN: # 마우스 왼쪽 클릭\n",
    "        point_list.append((x,y)) \n",
    "\n",
    "    for point in point_list:\n",
    "        cv2.circle(src_img, point, 10, COLOR, cv2.FILLED)\n",
    "\n",
    "\n",
    "    if len(point_list) ==4:\n",
    "        show_result()\n",
    "\n",
    "\n",
    "    cv2.imshow('img', src_img)\n",
    "\n",
    "\n",
    "def show_result():\n",
    "    width, height = 530, 710\n",
    "\n",
    "    src = np.float32(point_list) # list의 4개 지점으로 array 생성\n",
    "    dst = np.array([[0,0], [width,0], [width,height], [0,height]], dtype = np.float32) # output 4개 지정\n",
    "    \n",
    "    \n",
    "    matrix = cv2.getPerspectiveTransform(src,dst) # 선택한 공간을 잘라서 dst공간으로 불러옴\n",
    "    result = cv2.warpPerspective(src_img, matrix, (width, height)) #img를 matrix 공간에 삽입\n",
    "    cv2.imshow(\"result\", result)\n",
    "\n",
    "cv2.namedWindow('img') #img 이름의 윈도우를 생성, 여기에 마우스 이벤트를 처리하기 위한 핸들러 적용\n",
    "cv2.setMouseCallback('img', mouse_handler)\n",
    "cv2.imshow('img', src_img)\n",
    "cv2.waitKey(0)\n",
    "cv2.destroyAllWindows()\n"
   ]
  },
  {
   "cell_type": "code",
   "execution_count": null,
   "id": "a5d7b3ab-c131-4f47-affc-d236e0c94f1b",
   "metadata": {},
   "outputs": [],
   "source": []
  },
  {
   "cell_type": "code",
   "execution_count": null,
   "id": "b4382f30-7ed7-4807-a404-ab237203007d",
   "metadata": {},
   "outputs": [],
   "source": []
  },
  {
   "cell_type": "code",
   "execution_count": null,
   "id": "12738f42-8a7e-487c-b876-b670e42c20f9",
   "metadata": {},
   "outputs": [],
   "source": []
  },
  {
   "cell_type": "code",
   "execution_count": null,
   "id": "1b6c9e90-3ef6-4c70-8fa1-f1d8f4deb630",
   "metadata": {},
   "outputs": [],
   "source": []
  }
 ],
 "metadata": {
  "kernelspec": {
   "display_name": "Python 3 (ipykernel)",
   "language": "python",
   "name": "python3"
  },
  "language_info": {
   "codemirror_mode": {
    "name": "ipython",
    "version": 3
   },
   "file_extension": ".py",
   "mimetype": "text/x-python",
   "name": "python",
   "nbconvert_exporter": "python",
   "pygments_lexer": "ipython3",
   "version": "3.13.5"
  }
 },
 "nbformat": 4,
 "nbformat_minor": 5
}
