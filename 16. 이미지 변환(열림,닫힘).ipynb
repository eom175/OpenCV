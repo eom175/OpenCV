{
 "cells": [
  {
   "cell_type": "markdown",
   "id": "f29a9470",
   "metadata": {},
   "source": [
    "# 이미지 변환(열림,닫힘)"
   ]
  },
  {
   "cell_type": "markdown",
   "id": "a0387e9d",
   "metadata": {},
   "source": [
    "## 열림(Opening) : 침식 후 팽창. 깎아서 노이즈 제거 후 살 찌움\n",
    "> dilate(erode(image))\n"
   ]
  },
  {
   "cell_type": "code",
   "execution_count": 11,
   "id": "3829c033",
   "metadata": {},
   "outputs": [],
   "source": [
    "import cv2\n",
    "import numpy as np\n",
    "img = cv2.imread('dilate.png', cv2.IMREAD_GRAYSCALE)\n",
    "kernel = np.ones((3,3), dtype=np.uint8)\n",
    "erode = cv2.erode(img, kernel, iterations = 3)\n",
    "dilate = cv2.dilate(erode, kernel, iterations =3)\n",
    "\n",
    "cv2.imshow('img', img)\n",
    "cv2.imshow('erode', erode)\n",
    "cv2.imshow('dilate', dilate)\n",
    "cv2.waitKey(0)\n",
    "cv2.destroyAllWindows()"
   ]
  },
  {
   "cell_type": "markdown",
   "id": "161b8b94",
   "metadata": {},
   "source": [
    "# 닫힘(closing): 팽창 후 침식. 구멍을 메운 후 다시 깎음\n",
    "> erode(dilate(image))"
   ]
  },
  {
   "cell_type": "code",
   "execution_count": 14,
   "id": "d62eb39d",
   "metadata": {},
   "outputs": [],
   "source": [
    "import cv2\n",
    "import numpy as np\n",
    "img = cv2.imread('dilate.png', cv2.IMREAD_GRAYSCALE)\n",
    "kernel = np.ones((3,3), dtype=np.uint8)\n",
    "dilate = cv2.dilate(img, kernel, iterations =3) #원본 이미지 먼저 팽창\n",
    "erode = cv2.erode(dilate, kernel, iterations = 3) # 그 다음 깎음\n",
    "\n",
    "\n",
    "cv2.imshow('img', img)\n",
    "cv2.imshow('erode', erode)\n",
    "cv2.imshow('dilate', dilate)\n",
    "cv2.waitKey(0)\n",
    "cv2.destroyAllWindows()"
   ]
  }
 ],
 "metadata": {
  "kernelspec": {
   "display_name": "base",
   "language": "python",
   "name": "python3"
  },
  "language_info": {
   "codemirror_mode": {
    "name": "ipython",
    "version": 3
   },
   "file_extension": ".py",
   "mimetype": "text/x-python",
   "name": "python",
   "nbconvert_exporter": "python",
   "pygments_lexer": "ipython3",
   "version": "3.13.5"
  }
 },
 "nbformat": 4,
 "nbformat_minor": 5
}
