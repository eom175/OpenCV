{
 "cells": [
  {
   "cell_type": "markdown",
   "id": "c0b61731",
   "metadata": {},
   "source": [
    "# 18. 이미지 검출(윤곽선)"
   ]
  },
  {
   "cell_type": "markdown",
   "id": "ab48c4a4",
   "metadata": {},
   "source": [
    "## 윤곽선(Contour): 경계선을 연결한 선"
   ]
  },
  {
   "cell_type": "code",
   "execution_count": 2,
   "id": "7c55a1fd",
   "metadata": {},
   "outputs": [],
   "source": [
    "import cv2\n",
    "img = cv2.imread('card.png')\n",
    "\n",
    "target_image = img.copy() #복사본\n",
    "gray = cv2.cvtColor(img, cv2.COLOR_BGR2GRAY)\n",
    "\n",
    "ret, otsu = cv2.threshold(gray, -1, 255, cv2.THRESH_BINARY | cv2.THRESH_OTSU)\n",
    "\n",
    "contours, hierarchy = cv2.findContours(otsu, cv2.RETR_LIST, cv2.CHAIN_APPROX_NONE) # 윤곽선 검출\n",
    "# 윤곽선 정보, 윤곽선 구조 = 대상 이미지, 윤곽선 찾는 모드, 윤곽선 찾을 때 사용하는 근사치 방법\n",
    "\n",
    "COLOR = (0,200,0)\n",
    "THICKNESS = 2\n",
    "cv2.drawContours(target_image, contours, -1, COLOR, THICKNESS)\n",
    "# 대상이미지, 윤곽선 정보, 인덱스(-1이면 전체 윤곽선 그림), 색깔, 두께 \n",
    "\n",
    "\n",
    "\n",
    "cv2.imshow('img', img)\n",
    "cv2.imshow('gray', gray)\n",
    "cv2.imshow('otsu', otsu)\n",
    "cv2.imshow('contour', target_image)\n",
    "\n",
    "cv2.waitKey(0)\n",
    "cv2.destroyAllWindows()"
   ]
  },
  {
   "cell_type": "code",
   "execution_count": null,
   "id": "ddf65ea8",
   "metadata": {},
   "outputs": [],
   "source": []
  },
  {
   "cell_type": "markdown",
   "id": "32a28e50",
   "metadata": {},
   "source": [
    "### 윤곽선 찾기 모드\n",
    "1. cv2.RETR_EXTERNAL : 가장 외곽의 윤곽선만 찾음\n",
    "2. cv2.RETER_LIST : 모든 윤곽선 찾음(계층 정보 없음)\n",
    "3. cv2.RETER_TREE : 모든 윤곽선 찾음(계층 정보를 트리 구조로 생성)"
   ]
  },
  {
   "cell_type": "code",
   "execution_count": 3,
   "id": "57036637",
   "metadata": {},
   "outputs": [],
   "source": [
    "import cv2\n",
    "img = cv2.imread('card.png')\n",
    "\n",
    "target_image = img.copy() #복사본\n",
    "gray = cv2.cvtColor(img, cv2.COLOR_BGR2GRAY)\n",
    "\n",
    "ret, otsu = cv2.threshold(gray, -1, 255, cv2.THRESH_BINARY | cv2.THRESH_OTSU)\n",
    "\n",
    "# contours, hierarchy = cv2.findContours(otsu, cv2.RETR_LIST, cv2.CHAIN_APPROX_NONE) \n",
    "contours, hierarchy = cv2.findContours(otsu, cv2.RETR_LIST, cv2.CHAIN_APPROX_NONE) \n",
    "# contours, hierarchy = cv2.findContours(otsu, cv2.RETR_TREE, cv2.CHAIN_APPROX_NONE) \n",
    "# print(hierarchy)\n",
    "# print(len(contours))\n",
    "\n",
    "\n",
    "COLOR = (0,200,0)\n",
    "THICKNESS = 2\n",
    "cv2.drawContours(target_image, contours, -1, COLOR, THICKNESS)\n",
    "# 대상이미지, 윤곽선 정보, 인덱스(-1이면 전체 윤곽선 그림), 색깔, 두께 \n",
    "\n",
    "cv2.imshow('img', img)\n",
    "cv2.imshow('gray', gray)\n",
    "cv2.imshow('otsu', otsu)\n",
    "cv2.imshow('contour', target_image)\n",
    "\n",
    "cv2.waitKey(0)\n",
    "cv2.destroyAllWindows()"
   ]
  },
  {
   "cell_type": "markdown",
   "id": "988e55d5",
   "metadata": {},
   "source": [
    "## 경계 사각형 \n",
    "윤곽선의 경계면을 둘러싸는 사각형\n",
    "> boundingRect()"
   ]
  },
  {
   "cell_type": "code",
   "execution_count": 2,
   "id": "1a3a81aa",
   "metadata": {},
   "outputs": [],
   "source": [
    "import cv2\n",
    "img = cv2.imread('card.png')\n",
    "\n",
    "target_image = img.copy() #복사본\n",
    "gray = cv2.cvtColor(img, cv2.COLOR_BGR2GRAY)\n",
    "\n",
    "ret, otsu = cv2.threshold(gray, -1, 255, cv2.THRESH_BINARY | cv2.THRESH_OTSU)\n",
    "\n",
    "contours, hierarchy = cv2.findContours(otsu, cv2.RETR_LIST, cv2.CHAIN_APPROX_NONE) \n",
    "\n",
    "\n",
    "COLOR = (0,200,0)\n",
    "THICKNESS = 2\n",
    "\n",
    "for cnt in contours:\n",
    "    x,y,width,height = cv2.boundingRect(cnt) # 윤곽선을 둘러싸는 사각형 정보를 가져옴\n",
    "    cv2.rectangle(target_image, (x,y), (x+width, y+height), COLOR, THICKNESS)\n",
    "\n",
    "\n",
    "cv2.imshow('img', img)\n",
    "cv2.imshow('gray', gray)\n",
    "cv2.imshow('otsu', otsu)\n",
    "cv2.imshow('contour', target_image)\n",
    "\n",
    "cv2.waitKey(0)\n",
    "cv2.destroyAllWindows()"
   ]
  },
  {
   "cell_type": "markdown",
   "id": "f2fb9858",
   "metadata": {},
   "source": [
    "# 면적\n",
    ">contourArea()"
   ]
  },
  {
   "cell_type": "code",
   "execution_count": 10,
   "id": "132e3d9c",
   "metadata": {},
   "outputs": [],
   "source": [
    "import cv2\n",
    "img = cv2.imread('card.png')\n",
    "\n",
    "target_image = img.copy() #복사본\n",
    "gray = cv2.cvtColor(img, cv2.COLOR_BGR2GRAY)\n",
    "\n",
    "ret, otsu = cv2.threshold(gray, -1, 255, cv2.THRESH_BINARY | cv2.THRESH_OTSU)\n",
    "\n",
    "contours, hierarchy = cv2.findContours(otsu, cv2.RETR_LIST, cv2.CHAIN_APPROX_NONE) \n",
    "\n",
    "\n",
    "COLOR = (0,200,0)\n",
    "THICKNESS = 2\n",
    "\n",
    "for cnt in contours:\n",
    "    if cv2.contourArea(cnt) > 25000: # 카드 한장 크기\n",
    "         x,y,width,height = cv2.boundingRect(cnt) # 윤곽선을 둘러싸는 사각형 정보를 가져옴\n",
    "         cv2.rectangle(target_image, (x,y), (x+width, y+height), COLOR, THICKNESS)\n",
    "        \n",
    "\n",
    "\n",
    "cv2.imshow('img', img)\n",
    "\n",
    "cv2.imshow('contour', target_image)\n",
    "\n",
    "cv2.waitKey(0)\n",
    "cv2.destroyAllWindows()"
   ]
  },
  {
   "cell_type": "markdown",
   "id": "3ec8d19d",
   "metadata": {},
   "source": [
    "## 개별 카드 추출해서 파일로 저장"
   ]
  },
  {
   "cell_type": "code",
   "execution_count": 4,
   "id": "48de5059",
   "metadata": {},
   "outputs": [],
   "source": [
    "import cv2\n",
    "img = cv2.imread('card.png')\n",
    "\n",
    "target_image = img.copy() #복사본\n",
    "gray = cv2.cvtColor(img, cv2.COLOR_BGR2GRAY)\n",
    "\n",
    "ret, otsu = cv2.threshold(gray, -1, 255, cv2.THRESH_BINARY | cv2.THRESH_OTSU)\n",
    "\n",
    "contours, hierarchy = cv2.findContours(otsu, cv2.RETR_LIST, cv2.CHAIN_APPROX_NONE) \n",
    "\n",
    "\n",
    "COLOR = (0,200,0)\n",
    "THICKNESS = 2\n",
    "index = 1\n",
    "for cnt in contours:\n",
    "    if cv2.contourArea(cnt) > 25000: # 카드 한장 크기\n",
    "         x,y,width,height = cv2.boundingRect(cnt) # 윤곽선을 둘러싸는 사각형 정보를 가져옴\n",
    "         cv2.rectangle(target_image, (x,y), (x+width, y+height), COLOR, THICKNESS)\n",
    "         crop = img[y:y+height, x:x+width] #카드영역만큼 자름\n",
    "         cv2.imshow(f'card_crop_{index}', crop)\n",
    "         cv2.imwrite(f'card_crop_{index}.png', crop) #파일 저장\n",
    "         index +=1\n",
    "         \n",
    "\n",
    "\n",
    "cv2.imshow('img', img)\n",
    "\n",
    "cv2.imshow('contour', target_image)\n",
    "\n",
    "cv2.waitKey(0)\n",
    "cv2.destroyAllWindows()"
   ]
  }
 ],
 "metadata": {
  "kernelspec": {
   "display_name": "base",
   "language": "python",
   "name": "python3"
  },
  "language_info": {
   "codemirror_mode": {
    "name": "ipython",
    "version": 3
   },
   "file_extension": ".py",
   "mimetype": "text/x-python",
   "name": "python",
   "nbconvert_exporter": "python",
   "pygments_lexer": "ipython3",
   "version": "3.13.5"
  }
 },
 "nbformat": 4,
 "nbformat_minor": 5
}
