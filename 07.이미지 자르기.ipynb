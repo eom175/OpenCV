{
 "cells": [
  {
   "cell_type": "markdown",
   "id": "de8946a3-232b-4ce2-b4d7-f5b6be13933f",
   "metadata": {},
   "source": [
    "# 7. 이미지 자르기"
   ]
  },
  {
   "cell_type": "markdown",
   "id": "feca8c1a",
   "metadata": {},
   "source": [
    "# 안녕"
   ]
  },
  {
   "cell_type": "markdown",
   "id": "46564a09-a3bb-4a0c-917f-fc11f1be8ad6",
   "metadata": {},
   "source": [
    "영역을 잘라서 새로운 윈도우(창)에 표시"
   ]
  },
  {
   "cell_type": "code",
   "execution_count": 3,
   "id": "3f6403ad-8b42-4caa-aa48-6837f7aac5ca",
   "metadata": {},
   "outputs": [],
   "source": [
    "import cv2\n",
    "img= cv2.imread('img.jpg')\n",
    "img.shape # (427.640,3)\n",
    "\n",
    "crop = img[100:200, 200:400] #세로 기준 100:200, 가로기준 300:400까지 자름\n",
    "\n",
    "cv2.imshow('img', img)\n",
    "cv2.imshow('crop', crop)\n",
    "cv2.waitKey(0)\n",
    "cv2.destroyAllWindows()"
   ]
  },
  {
   "cell_type": "markdown",
   "id": "e69f8529-6b61-4b27-a92d-2dbba647e96f",
   "metadata": {},
   "source": [
    "영역을 잘라서 기존 윈도우에 표시"
   ]
  },
  {
   "cell_type": "code",
   "execution_count": 1,
   "id": "75a247e3-ffc1-417d-b65d-8643701ce7c2",
   "metadata": {},
   "outputs": [],
   "source": [
    "import cv2\n",
    "img= cv2.imread('img.jpg')\n",
    "img.shape # (427.640,3)\n",
    "\n",
    "crop = img[100:200, 200:400] #세로 기준 100:200, 가로기준 300:400까지 자름\n",
    "img[100:200, 400:600] = crop #이미지의 100:200, 400:600 만큼의 공간을 crop으로 채움\n",
    "cv2.imshow('img', img)\n",
    "cv2.waitKey(0)\n",
    "cv2.destroyAllWindows()"
   ]
  },
  {
   "cell_type": "code",
   "execution_count": null,
   "id": "90429a99-451e-48a0-9d62-8cb42a3a485c",
   "metadata": {},
   "outputs": [],
   "source": []
  },
  {
   "cell_type": "code",
   "execution_count": null,
   "id": "7df81baf-bad7-4b99-8b5e-a78d1965a16c",
   "metadata": {},
   "outputs": [],
   "source": []
  },
  {
   "cell_type": "code",
   "execution_count": null,
   "id": "a8bd54c9-c4dd-49a4-b9eb-1d0de8e714e9",
   "metadata": {},
   "outputs": [],
   "source": []
  },
  {
   "cell_type": "code",
   "execution_count": null,
   "id": "01317481-3932-4dc9-8944-07b351ae42b6",
   "metadata": {},
   "outputs": [],
   "source": []
  },
  {
   "cell_type": "code",
   "execution_count": null,
   "id": "559ad929-651d-41c5-bff3-37e53b4ecef1",
   "metadata": {},
   "outputs": [],
   "source": []
  },
  {
   "cell_type": "code",
   "execution_count": null,
   "id": "e30cfb89-2840-4a40-a6bb-0cf1c9955bd8",
   "metadata": {},
   "outputs": [],
   "source": []
  },
  {
   "cell_type": "code",
   "execution_count": null,
   "id": "7353b125-2351-4054-b1b3-89d2b9eb4a69",
   "metadata": {},
   "outputs": [],
   "source": []
  },
  {
   "cell_type": "code",
   "execution_count": null,
   "id": "0ee1dab8-4a66-440e-ae97-a21570497483",
   "metadata": {},
   "outputs": [],
   "source": []
  },
  {
   "cell_type": "code",
   "execution_count": null,
   "id": "d0c30d24-7c8f-441d-91aa-022f4aa1dfcb",
   "metadata": {},
   "outputs": [],
   "source": []
  },
  {
   "cell_type": "code",
   "execution_count": null,
   "id": "2a4fda16-bd2f-4ada-882d-05aa30b31f10",
   "metadata": {},
   "outputs": [],
   "source": []
  },
  {
   "cell_type": "code",
   "execution_count": null,
   "id": "39c51327-8e92-4369-8eba-78f6ba83dfdd",
   "metadata": {},
   "outputs": [],
   "source": []
  },
  {
   "cell_type": "code",
   "execution_count": null,
   "id": "9e862c79-a1c1-4ace-980f-3cd6dd4efc0a",
   "metadata": {},
   "outputs": [],
   "source": []
  }
 ],
 "metadata": {
  "kernelspec": {
   "display_name": "base",
   "language": "python",
   "name": "python3"
  },
  "language_info": {
   "codemirror_mode": {
    "name": "ipython",
    "version": 3
   },
   "file_extension": ".py",
   "mimetype": "text/x-python",
   "name": "python",
   "nbconvert_exporter": "python",
   "pygments_lexer": "ipython3",
   "version": "3.13.5"
  }
 },
 "nbformat": 4,
 "nbformat_minor": 5
}
