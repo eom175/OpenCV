{
 "cells": [
  {
   "cell_type": "markdown",
   "id": "a8d338b0-64f0-4dbd-bff9-3a314dc14765",
   "metadata": {},
   "source": [
    "# 6.크기 조정"
   ]
  },
  {
   "cell_type": "markdown",
   "id": "aae70dd8-c1e5-42a7-bee6-07c808456216",
   "metadata": {},
   "source": [
    "## 이미지"
   ]
  },
  {
   "cell_type": "markdown",
   "id": "c63d8a86-24ed-4922-bf0a-1553b8f170d0",
   "metadata": {},
   "source": [
    "### 고정 크기로 설정"
   ]
  },
  {
   "cell_type": "code",
   "execution_count": 1,
   "id": "f6f649d0-ddd0-4edf-9dd3-7bbd06af8a1f",
   "metadata": {},
   "outputs": [],
   "source": [
    "import cv2\n",
    "img = cv2.imread('img.jpg')\n",
    "dst = cv2.resize(img, (400,500)) # 고정 크기 설정\n",
    "\n",
    "cv2.imshow('img', img)\n",
    "cv2.imshow('resize', dst)\n",
    "cv2.waitKey(0)\n",
    "cv2.destroyAllWindows()"
   ]
  },
  {
   "cell_type": "markdown",
   "id": "82bd1e56-bbd5-4ca4-927f-e1e31cd25a8d",
   "metadata": {},
   "source": [
    "### 비율로 설정\n"
   ]
  },
  {
   "cell_type": "code",
   "execution_count": 3,
   "id": "4d1ad2d9-9e18-4215-9e9b-8a8f5473db34",
   "metadata": {},
   "outputs": [],
   "source": [
    "import cv2\n",
    "img = cv2.imread('img.jpg')\n",
    "dst = cv2.resize(img, None, fx =2 , fy=2) # 기존 이미지 비율 유지하면서 크기만 축소시킴 (아무것도 안적으면 기본 cv2.INTER_LINEAR 보간법 사용)\n",
    "\n",
    "cv2.imshow('img', img)\n",
    "cv2.imshow('resize', dst)\n",
    "cv2.waitKey(0)\n",
    "cv2.destroyAllWindows()\n",
    "\n"
   ]
  },
  {
   "cell_type": "markdown",
   "id": "1522c2d3-2bf7-410e-86d3-ab8ad65f4969",
   "metadata": {},
   "source": [
    "### 보간법 : 이미지의 크기를 변형 시킬 때 빈 픽셀 공간을 처리하는 방법\n",
    "1. cv2.INTER_AREA : 크기 줄일 때 사용\n",
    "2. cv2.INTER_CUBIC: 크기 늘릴 때 사용(속도 느림, 퀄리티 좋음)\n",
    "3. cv2.INTER_LINEAR: 크기 늘릴 때 사용(기본값) "
   ]
  },
  {
   "cell_type": "markdown",
   "id": "dc381521-385e-4eb3-a297-d0da7fe9c26c",
   "metadata": {},
   "source": [
    "보간법 적용해서 축소"
   ]
  },
  {
   "cell_type": "code",
   "execution_count": 6,
   "id": "019881f0-8b1a-42d3-ae82-5126ade968da",
   "metadata": {},
   "outputs": [],
   "source": [
    "import cv2\n",
    "img = cv2.imread('img.jpg')\n",
    "dst = cv2.resize(img, None, fx =0.5 , fy=0.5, interpolation = cv2.INTER_AREA) # 0.5배 축소\n",
    "\n",
    "cv2.imshow('img', img)\n",
    "cv2.imshow('resize', dst)\n",
    "cv2.waitKey(0)\n",
    "cv2.destroyAllWindows()"
   ]
  },
  {
   "cell_type": "markdown",
   "id": "af8efa80-2d43-4d4d-896d-f3eff396e596",
   "metadata": {},
   "source": [
    "보간법 적용해서 확대"
   ]
  },
  {
   "cell_type": "code",
   "execution_count": 7,
   "id": "2530cadc-3a98-43b3-a2c1-d2ce8ad76328",
   "metadata": {},
   "outputs": [],
   "source": [
    "import cv2\n",
    "img = cv2.imread('img.jpg')\n",
    "dst = cv2.resize(img, None, fx =1.5 , fy=1.5, interpolation = cv2.INTER_CUBIC) # 1.5배 확대\n",
    "\n",
    "cv2.imshow('img', img)\n",
    "cv2.imshow('resize', dst)\n",
    "cv2.waitKey(0)\n",
    "cv2.destroyAllWindows()"
   ]
  },
  {
   "cell_type": "markdown",
   "id": "d321f2ab-e240-4023-a65e-828d7ffc09dc",
   "metadata": {},
   "source": [
    "### 동영상"
   ]
  },
  {
   "cell_type": "markdown",
   "id": "7f8247d2-351f-44f2-b5fc-1b9676271d34",
   "metadata": {},
   "source": [
    "고정 크기로 설정"
   ]
  },
  {
   "cell_type": "code",
   "execution_count": 9,
   "id": "ad115888-6fb1-499f-ab4e-2ac332503b9c",
   "metadata": {},
   "outputs": [],
   "source": [
    "import cv2\n",
    "cap = cv2.VideoCapture('video.mp4')\n",
    "while cap.isOpened():\n",
    "    ret, frame = cap.read()\n",
    "    if not ret:\n",
    "        break\n",
    "\n",
    "    frame_resized = cv2.resize(frame, (400,500))\n",
    "\n",
    "    cv2.imshow('video', frame_resized)\n",
    "    if cv2.waitKey(1) == ord('q'):\n",
    "        break\n",
    " \n",
    "\n",
    "cap.release()\n",
    "cv2.destroyAllWindows()"
   ]
  },
  {
   "cell_type": "markdown",
   "id": "65fe577d-d18e-4081-b696-088fc16e0d4d",
   "metadata": {},
   "source": [
    "비율로 설정\n"
   ]
  },
  {
   "cell_type": "code",
   "execution_count": 10,
   "id": "f6158c01-52bf-4dcd-8476-7e5b290f778a",
   "metadata": {},
   "outputs": [],
   "source": [
    "import cv2\n",
    "cap = cv2.VideoCapture('video.mp4')\n",
    "while cap.isOpened():\n",
    "    ret, frame = cap.read()\n",
    "    if not ret:\n",
    "        break\n",
    "\n",
    "    frame_resized = cv2.resize(frame, None, fx= 1.5, fy = 1.5, interpolation = cv2.INTER_CUBIC)\n",
    "\n",
    "    cv2.imshow('video', frame_resized)\n",
    "    if cv2.waitKey(1) == ord('q'):\n",
    "        break\n",
    " \n",
    "\n",
    "cap.release()\n",
    "cv2.destroyAllWindows()"
   ]
  }
 ],
 "metadata": {
  "kernelspec": {
   "display_name": "Python 3 (ipykernel)",
   "language": "python",
   "name": "python3"
  },
  "language_info": {
   "codemirror_mode": {
    "name": "ipython",
    "version": 3
   },
   "file_extension": ".py",
   "mimetype": "text/x-python",
   "name": "python",
   "nbconvert_exporter": "python",
   "pygments_lexer": "ipython3",
   "version": "3.13.5"
  }
 },
 "nbformat": 4,
 "nbformat_minor": 5
}
