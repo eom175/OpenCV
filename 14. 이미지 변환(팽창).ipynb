{
 "cells": [
  {
   "cell_type": "markdown",
   "id": "f78f9dc9",
   "metadata": {},
   "source": [
    "# 14. 이미지 변환(팽창)"
   ]
  },
  {
   "cell_type": "markdown",
   "id": "e402d9b6",
   "metadata": {},
   "source": [
    "### 이미지를 확장하여 작은 구멍을 채움\n",
    "흰색 영역의 외곽 픽셀 주변에 픽셀을 추가"
   ]
  },
  {
   "cell_type": "code",
   "execution_count": 6,
   "id": "8b14cc33",
   "metadata": {},
   "outputs": [],
   "source": [
    "import cv2\n",
    "import numpy as np\n",
    "\n",
    "kernel = np.ones((3,3), dtype= np.uint8)\n",
    "\n",
    "\n",
    "img= cv2.imread('dilate.png', cv2.IMREAD_GRAYSCALE)\n",
    "dilate1= cv2.dilate(img, kernel, iterations =1) # 반복횟수\n",
    "dilate2= cv2.dilate(img, kernel, iterations =2)\n",
    "dilate3= cv2.dilate(img, kernel, iterations =3)\n",
    "# 이미지 팽창시키면서 빈공간을 메움\n",
    "cv2.imshow('gray', img)\n",
    "cv2.imshow('dialte1', dilate1)\n",
    "cv2.imshow('dialte2', dilate2)\n",
    "cv2.imshow('dialte3', dilate3)\n",
    "cv2.waitKey(0)\n",
    "cv2.destroyAllWindows()"
   ]
  }
 ],
 "metadata": {
  "kernelspec": {
   "display_name": "base",
   "language": "python",
   "name": "python3"
  },
  "language_info": {
   "codemirror_mode": {
    "name": "ipython",
    "version": 3
   },
   "file_extension": ".py",
   "mimetype": "text/x-python",
   "name": "python",
   "nbconvert_exporter": "python",
   "pygments_lexer": "ipython3",
   "version": "3.13.5"
  }
 },
 "nbformat": 4,
 "nbformat_minor": 5
}
